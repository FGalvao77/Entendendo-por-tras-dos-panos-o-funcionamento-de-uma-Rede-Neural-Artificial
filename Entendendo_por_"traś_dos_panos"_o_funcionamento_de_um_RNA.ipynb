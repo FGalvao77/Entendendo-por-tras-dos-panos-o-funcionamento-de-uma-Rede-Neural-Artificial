{
  "nbformat": 4,
  "nbformat_minor": 0,
  "metadata": {
    "colab": {
      "provenance": [],
      "authorship_tag": "ABX9TyOd3YwN3t5pG7M1iI/haFnn",
      "include_colab_link": true
    },
    "kernelspec": {
      "name": "python3",
      "display_name": "Python 3"
    },
    "language_info": {
      "name": "python"
    }
  },
  "cells": [
    {
      "cell_type": "markdown",
      "metadata": {
        "id": "view-in-github",
        "colab_type": "text"
      },
      "source": [
        "<a href=\"https://colab.research.google.com/github/FGalvao77/Entendendo-por-tras-dos-panos-o-funcionamento-de-uma-Rede-Neural-Artificial/blob/main/Entendendo_por_%22tra%C5%9B_dos_panos%22_o_funcionamento_de_um_RNA.ipynb\" target=\"_parent\"><img src=\"https://colab.research.google.com/assets/colab-badge.svg\" alt=\"Open In Colab\"/></a>"
      ]
    },
    {
      "cell_type": "markdown",
      "source": [
        "<br>\n",
        "\n",
        "## **Entendendo _\"por trás dos panos\"_ o funcionamento de uma `Rede Neural Artificial`**\n",
        "---\n",
        "---"
      ],
      "metadata": {
        "id": "aQJFJp1gL6nM"
      }
    },
    {
      "cell_type": "code",
      "source": [
        "# instanciando uma lista com dados de entrada\n",
        "inp = [1, 2, 3]\n",
        "\n",
        "# visualizando o tipo do objeto e o seu conteúdo\n",
        "type(inp), inp"
      ],
      "metadata": {
        "id": "GI3toC2yaECi",
        "colab": {
          "base_uri": "https://localhost:8080/"
        },
        "outputId": "cebb8d04-316f-4c4e-8a66-fb2038c39576"
      },
      "execution_count": 1,
      "outputs": [
        {
          "output_type": "execute_result",
          "data": {
            "text/plain": [
              "(list, [1, 2, 3])"
            ]
          },
          "metadata": {},
          "execution_count": 1
        }
      ]
    },
    {
      "cell_type": "code",
      "source": [
        "# acessando os elementos da lista através dos seus índices\n",
        "inp[0], inp[1], inp[2]  "
      ],
      "metadata": {
        "id": "yMhfg5NAaD7I",
        "colab": {
          "base_uri": "https://localhost:8080/"
        },
        "outputId": "c4df5a12-83ee-4b7a-82f7-9ada662f8b2d"
      },
      "execution_count": 2,
      "outputs": [
        {
          "output_type": "execute_result",
          "data": {
            "text/plain": [
              "(1, 2, 3)"
            ]
          },
          "metadata": {},
          "execution_count": 2
        }
      ]
    },
    {
      "cell_type": "code",
      "source": [
        "# instanciando uma lista com valores dos pesos\n",
        "weight = [0.2, 0.8, -0.5]\n",
        "\n",
        "# visualizando o tipo do objeto e o seu conteúdo\n",
        "type(weight), weight"
      ],
      "metadata": {
        "id": "MW1di9ZvaD4p",
        "colab": {
          "base_uri": "https://localhost:8080/"
        },
        "outputId": "c15b7820-d84a-4ea5-da5e-4ff68840fa7e"
      },
      "execution_count": 3,
      "outputs": [
        {
          "output_type": "execute_result",
          "data": {
            "text/plain": [
              "(list, [0.2, 0.8, -0.5])"
            ]
          },
          "metadata": {},
          "execution_count": 3
        }
      ]
    },
    {
      "cell_type": "code",
      "source": [
        "# acessando os elementos da lista através dos seus índices\n",
        "weight[0], weight[1], weight[2]"
      ],
      "metadata": {
        "colab": {
          "base_uri": "https://localhost:8080/"
        },
        "id": "NbIcebbaVNRJ",
        "outputId": "5ce2665d-ffc7-4a1c-c763-6b75c5653f65"
      },
      "execution_count": 4,
      "outputs": [
        {
          "output_type": "execute_result",
          "data": {
            "text/plain": [
              "(0.2, 0.8, -0.5)"
            ]
          },
          "metadata": {},
          "execution_count": 4
        }
      ]
    },
    {
      "cell_type": "code",
      "source": [
        "# instanciando o valor do viés (bias em inglês)\n",
        "bias = 2"
      ],
      "metadata": {
        "id": "ihYbZbC7Yb-f"
      },
      "execution_count": 5,
      "outputs": []
    },
    {
      "cell_type": "code",
      "source": [
        "# operação do produto escalar de cada valor de entrada com o valor de viés\n",
        "# e por fim, a somatória dos resultados\n",
        "out = (\n",
        "    (inp[0] * weight[0]) + (inp[1] * weight[1]) + (inp[2] * weight[2]) + bias\n",
        ")\n",
        "\n",
        "# visualizando o resultado final\n",
        "out"
      ],
      "metadata": {
        "colab": {
          "base_uri": "https://localhost:8080/"
        },
        "id": "BUkvQewGVNPa",
        "outputId": "ae5bcfa6-f4c4-46af-c478-a964f2538908"
      },
      "execution_count": 6,
      "outputs": [
        {
          "output_type": "execute_result",
          "data": {
            "text/plain": [
              "2.3"
            ]
          },
          "metadata": {},
          "execution_count": 6
        }
      ]
    },
    {
      "cell_type": "code",
      "source": [
        "# criando uma função para realizar o produto escalar dos dados\n",
        "def nn(in_1: eval, in_2: eval, in_3: eval, \n",
        "       w_1: eval, w_2: eval, w_3: eval, \n",
        "       bias: eval) -> float:\n",
        "    \n",
        "    return ((in_1 * w_1) + (in_2 * w_2) + (in_3 * w_3)) + bias"
      ],
      "metadata": {
        "id": "VoyNqXh7VNOE"
      },
      "execution_count": 7,
      "outputs": []
    },
    {
      "cell_type": "code",
      "source": [
        "# utilizando a função acima com dados de entrada, peso e viés\n",
        "nn(1, 2, 3, 0.2, 0.8, -0.5, 2)"
      ],
      "metadata": {
        "colab": {
          "base_uri": "https://localhost:8080/"
        },
        "id": "FwwvXCFVVNIk",
        "outputId": "cc156fd5-256e-4fdb-908c-8395bf31eb33"
      },
      "execution_count": 8,
      "outputs": [
        {
          "output_type": "execute_result",
          "data": {
            "text/plain": [
              "2.3"
            ]
          },
          "metadata": {},
          "execution_count": 8
        }
      ]
    },
    {
      "cell_type": "code",
      "source": [
        "# importando o módulo para criar uma função mais estruturada para cálculo do produto escalar\n",
        "from typing import List\n",
        "\n",
        "# produto escalar de dois vetores e com um valor de viés\n",
        "def dot_product(xs: List[float], ys: List[float], bias: float) -> float:\n",
        "    return sum(x * y for x, y in zip(xs, ys)) + bias"
      ],
      "metadata": {
        "id": "X2zuatw-JMBO"
      },
      "execution_count": 9,
      "outputs": []
    },
    {
      "cell_type": "code",
      "source": [
        "# utilizando os mesmos dados de entrada, pesos e viés já utilizados anteriormente\n",
        "dot_product(xs=[1, 2, 3], ys=[0.2, 0.8, -0.5], bias=2)"
      ],
      "metadata": {
        "colab": {
          "base_uri": "https://localhost:8080/"
        },
        "id": "JvGnmFHnJW7r",
        "outputId": "508e1a0c-60d6-40c3-b179-62fb341ec20d"
      },
      "execution_count": 10,
      "outputs": [
        {
          "output_type": "execute_result",
          "data": {
            "text/plain": [
              "2.3"
            ]
          },
          "metadata": {},
          "execution_count": 10
        }
      ]
    },
    {
      "cell_type": "code",
      "source": [
        "# instanciando novos dados de entrada, pesos e viés\n",
        "inp_ = [1, 2, 3, 2.5]\n",
        "\n",
        "w_1 = [0.2, 0.8 , -0.5, 1]\n",
        "w_2 = [0.5, -0.91, 0.26, -0.5]\n",
        "w_3 = [-0.26, -0.27, 0.17, 0.87]\n",
        "\n",
        "bias_1 = 2\n",
        "bias_2 = 3\n",
        "bias_3 = 0.5"
      ],
      "metadata": {
        "id": "rVuipr0chFEr"
      },
      "execution_count": 11,
      "outputs": []
    },
    {
      "cell_type": "code",
      "source": [
        "# realizando o produto escalar com os novos dados acima\n",
        "outs = {\n",
        "    'neuron_1': [(inp_[0] * w_1[0]) + (inp_[1] * w_1[1]) + (inp_[2] * w_1[2]) + (inp_[3] * w_1[3]) + bias_1],\n",
        "    'neuron_2': [(inp_[0] * w_2[0]) + (inp_[1] * w_2[1]) + (inp_[2] * w_2[2]) + (inp_[3] * w_2[3]) + bias_2],\n",
        "    'neuron_3': [(inp_[0] * w_3[0]) + (inp_[1] * w_3[1]) + (inp_[2] * w_3[2]) + (inp_[3] * w_3[3]) + bias_3]\n",
        "}\n",
        "\n",
        "# visualizando o resultado\n",
        "outs"
      ],
      "metadata": {
        "colab": {
          "base_uri": "https://localhost:8080/"
        },
        "id": "kH0mQEhmhFCY",
        "outputId": "53c5febe-dae0-4a08-c557-415366ac7391"
      },
      "execution_count": 12,
      "outputs": [
        {
          "output_type": "execute_result",
          "data": {
            "text/plain": [
              "{'neuron_1': [4.8], 'neuron_2': [1.21], 'neuron_3': [2.385]}"
            ]
          },
          "metadata": {},
          "execution_count": 12
        }
      ]
    },
    {
      "cell_type": "code",
      "source": [
        "# visualizando o resultado individualmente em cada neurônio\n",
        "outs['neuron_1'], outs['neuron_2'], outs['neuron_3']"
      ],
      "metadata": {
        "colab": {
          "base_uri": "https://localhost:8080/"
        },
        "id": "qO-7bIqEhEwM",
        "outputId": "8a3c9e2f-48ea-41fc-b009-20e2897dca67"
      },
      "execution_count": 13,
      "outputs": [
        {
          "output_type": "execute_result",
          "data": {
            "text/plain": [
              "([4.8], [1.21], [2.385])"
            ]
          },
          "metadata": {},
          "execution_count": 13
        }
      ]
    },
    {
      "cell_type": "code",
      "source": [
        "# instanciando cada resultado dos neurônios em objetos distintos\n",
        "v1, v2, v3 = outs['neuron_1'], outs['neuron_2'], outs['neuron_3']"
      ],
      "metadata": {
        "id": "-xgMthqBhEqC"
      },
      "execution_count": 14,
      "outputs": []
    },
    {
      "cell_type": "code",
      "source": [
        "# visualizando o resultado em cada objeto\n",
        "v1, v2, v3"
      ],
      "metadata": {
        "colab": {
          "base_uri": "https://localhost:8080/"
        },
        "id": "E7glgO0NhEn_",
        "outputId": "05beb678-a94d-41fd-df67-3cd472f652b6"
      },
      "execution_count": 15,
      "outputs": [
        {
          "output_type": "execute_result",
          "data": {
            "text/plain": [
              "([4.8], [1.21], [2.385])"
            ]
          },
          "metadata": {},
          "execution_count": 15
        }
      ]
    },
    {
      "cell_type": "code",
      "source": [
        "# visualizando o tipo do objeto e seu conteúdo\n",
        "type(v1), v1"
      ],
      "metadata": {
        "colab": {
          "base_uri": "https://localhost:8080/"
        },
        "id": "OcLNYm-RhEfU",
        "outputId": "6790adb7-0215-4168-b605-9cbb5c27db3e"
      },
      "execution_count": 16,
      "outputs": [
        {
          "output_type": "execute_result",
          "data": {
            "text/plain": [
              "(list, [4.8])"
            ]
          },
          "metadata": {},
          "execution_count": 16
        }
      ]
    },
    {
      "cell_type": "code",
      "source": [
        "# concatenando e exibindo os resultados\n",
        "outs['neuron_1'] + outs['neuron_2'] + outs['neuron_3']"
      ],
      "metadata": {
        "colab": {
          "base_uri": "https://localhost:8080/"
        },
        "id": "ya4V8YR8hEvK",
        "outputId": "f5dd3788-dd5b-467c-d9fc-40884210f5cd"
      },
      "execution_count": 17,
      "outputs": [
        {
          "output_type": "execute_result",
          "data": {
            "text/plain": [
              "[4.8, 1.21, 2.385]"
            ]
          },
          "metadata": {},
          "execution_count": 17
        }
      ]
    },
    {
      "cell_type": "code",
      "source": [
        "# utilizando a função para calcular o produto escalar e imprimindo os resultados\n",
        "print(dot_product(xs=inp_, ys=w_1, bias=bias_1),\n",
        "      dot_product(xs=inp_, ys=w_2, bias=bias_2),\n",
        "      dot_product(xs=inp_, ys=w_3, bias=bias_3), sep=' | ')"
      ],
      "metadata": {
        "id": "X7F4D15KhEeU",
        "colab": {
          "base_uri": "https://localhost:8080/"
        },
        "outputId": "cef2c775-df04-4a9b-d905-fa3fdc80adc8"
      },
      "execution_count": 18,
      "outputs": [
        {
          "output_type": "stream",
          "name": "stdout",
          "text": [
            "4.8 | 1.21 | 2.385\n"
          ]
        }
      ]
    },
    {
      "cell_type": "code",
      "source": [],
      "metadata": {
        "id": "KG0m-JojK-kv"
      },
      "execution_count": null,
      "outputs": []
    },
    {
      "cell_type": "code",
      "source": [
        "# importando e visualizando a versão da biblioteca\n",
        "import numpy as np  # recursos matemáticos\n",
        "\n",
        "print(f'[VERSION] NumPy: {np.__version__}')"
      ],
      "metadata": {
        "colab": {
          "base_uri": "https://localhost:8080/"
        },
        "id": "oJkPmJTPhEcj",
        "outputId": "18b97ca9-0b0e-44a1-8754-c2c2a2f58638"
      },
      "execution_count": 19,
      "outputs": [
        {
          "output_type": "stream",
          "name": "stdout",
          "text": [
            "[VERSION] NumPy: 1.22.4\n"
          ]
        }
      ]
    },
    {
      "cell_type": "code",
      "source": [
        "# criando um objeto do tipo matriz - dados\n",
        "data = np.array([\n",
        "    [0, 0, 1],\n",
        "    [1, 1, 1],\n",
        "    [1, 0, 1],\n",
        "    [0, 1, 1],\n",
        "])\n",
        "\n",
        "# tipo do objeto, sua dimensão e o seu conteúdo\n",
        "type(data), data.ndim, data"
      ],
      "metadata": {
        "colab": {
          "base_uri": "https://localhost:8080/"
        },
        "id": "J9srAfCbhEW1",
        "outputId": "5337eee4-d00c-4597-9fd3-2f9580fa79bf"
      },
      "execution_count": 20,
      "outputs": [
        {
          "output_type": "execute_result",
          "data": {
            "text/plain": [
              "(numpy.ndarray,\n",
              " 2,\n",
              " array([[0, 0, 1],\n",
              "        [1, 1, 1],\n",
              "        [1, 0, 1],\n",
              "        [0, 1, 1]]))"
            ]
          },
          "metadata": {},
          "execution_count": 20
        }
      ]
    },
    {
      "cell_type": "code",
      "source": [
        "# criando um objeto do tipo matriz - rótulos\n",
        "labels = np.array([\n",
        "    [0, 1, 1, 0]\n",
        "])\n",
        "\n",
        "# tipo do objeto, sua dimensão e o seu conteúdo\n",
        "type(labels), labels.ndim, labels"
      ],
      "metadata": {
        "colab": {
          "base_uri": "https://localhost:8080/"
        },
        "id": "WQwP049uwdq9",
        "outputId": "907ff00a-1db4-4f19-dcd2-ae3ab192b180"
      },
      "execution_count": 21,
      "outputs": [
        {
          "output_type": "execute_result",
          "data": {
            "text/plain": [
              "(numpy.ndarray, 2, array([[0, 1, 1, 0]]))"
            ]
          },
          "metadata": {},
          "execution_count": 21
        }
      ]
    },
    {
      "cell_type": "code",
      "source": [
        "# realizando a transposição da matriz de rótulos com a função \"transpose()\"\n",
        "labels.transpose()  # uma coluna com n_linhas"
      ],
      "metadata": {
        "colab": {
          "base_uri": "https://localhost:8080/"
        },
        "id": "ut5yRWrtwll5",
        "outputId": "2fd22925-e26d-4c07-d5d3-d7585cc2303a"
      },
      "execution_count": 22,
      "outputs": [
        {
          "output_type": "execute_result",
          "data": {
            "text/plain": [
              "array([[0],\n",
              "       [1],\n",
              "       [1],\n",
              "       [0]])"
            ]
          },
          "metadata": {},
          "execution_count": 22
        }
      ]
    },
    {
      "cell_type": "code",
      "source": [
        "# também podemos realizar a redimensão da matriz com a função \".reshape(-1, 1)\"\n",
        "labels.reshape(-1, 1)"
      ],
      "metadata": {
        "colab": {
          "base_uri": "https://localhost:8080/"
        },
        "id": "CUHqV9jhwlay",
        "outputId": "a4bb8872-fdb6-4a7b-c5f1-62d9b7a4757b"
      },
      "execution_count": 23,
      "outputs": [
        {
          "output_type": "execute_result",
          "data": {
            "text/plain": [
              "array([[0],\n",
              "       [1],\n",
              "       [1],\n",
              "       [0]])"
            ]
          },
          "metadata": {},
          "execution_count": 23
        }
      ]
    },
    {
      "cell_type": "code",
      "source": [
        "# instanciando novamente a matriz de rótulos e já realizando sua transposição\n",
        "labels = np.array([\n",
        "    [0, 1, 1, 0]\n",
        "]).transpose()\n",
        "\n",
        "# visualizando o conteúdo da matriz\n",
        "labels"
      ],
      "metadata": {
        "colab": {
          "base_uri": "https://localhost:8080/"
        },
        "id": "BrK9DgRFhEU-",
        "outputId": "171a83d6-7228-4b4a-807b-8724ff4feb94"
      },
      "execution_count": 24,
      "outputs": [
        {
          "output_type": "execute_result",
          "data": {
            "text/plain": [
              "array([[0],\n",
              "       [1],\n",
              "       [1],\n",
              "       [0]])"
            ]
          },
          "metadata": {},
          "execution_count": 24
        }
      ]
    },
    {
      "cell_type": "code",
      "source": [
        "# podemos também transformar a matriz em n_colunas e uma linha\n",
        "labels.T"
      ],
      "metadata": {
        "colab": {
          "base_uri": "https://localhost:8080/"
        },
        "id": "sirH1_oewLu4",
        "outputId": "4600724b-5f58-48ec-c30b-05e34f1b6b59"
      },
      "execution_count": 25,
      "outputs": [
        {
          "output_type": "execute_result",
          "data": {
            "text/plain": [
              "array([[0, 1, 1, 0]])"
            ]
          },
          "metadata": {},
          "execution_count": 25
        }
      ]
    },
    {
      "cell_type": "code",
      "source": [
        "# instanciando a matriz de rótulos\n",
        "labels = np.array([\n",
        "    [0, 1, 1, 0]\n",
        "]).reshape(-1, 1)\n",
        "\n",
        "labels"
      ],
      "metadata": {
        "colab": {
          "base_uri": "https://localhost:8080/"
        },
        "id": "bEv0gqckwCCp",
        "outputId": "1d51e685-05ea-4ca9-a571-05b64df12393"
      },
      "execution_count": 26,
      "outputs": [
        {
          "output_type": "execute_result",
          "data": {
            "text/plain": [
              "array([[0],\n",
              "       [1],\n",
              "       [1],\n",
              "       [0]])"
            ]
          },
          "metadata": {},
          "execution_count": 26
        }
      ]
    },
    {
      "cell_type": "code",
      "source": [
        "# redimensionando a matriz\n",
        "labels.reshape(-1, )"
      ],
      "metadata": {
        "colab": {
          "base_uri": "https://localhost:8080/"
        },
        "id": "PrWemIsphEQ2",
        "outputId": "ef3f79cf-bbd5-4692-86a5-cb9b3e04c6bc"
      },
      "execution_count": 27,
      "outputs": [
        {
          "output_type": "execute_result",
          "data": {
            "text/plain": [
              "array([0, 1, 1, 0])"
            ]
          },
          "metadata": {},
          "execution_count": 27
        }
      ]
    },
    {
      "cell_type": "code",
      "source": [
        "# visualizando a matriz de rótulos\n",
        "labels"
      ],
      "metadata": {
        "colab": {
          "base_uri": "https://localhost:8080/"
        },
        "id": "skAWEAtbxBP5",
        "outputId": "c933383c-09ce-4f76-e821-75395c51402e"
      },
      "execution_count": 28,
      "outputs": [
        {
          "output_type": "execute_result",
          "data": {
            "text/plain": [
              "array([[0],\n",
              "       [1],\n",
              "       [1],\n",
              "       [0]])"
            ]
          },
          "metadata": {},
          "execution_count": 28
        }
      ]
    },
    {
      "cell_type": "code",
      "source": [
        "# instanciando a semente aleatória\n",
        "np.random.seed(1)"
      ],
      "metadata": {
        "id": "OO90jBxbhEP3"
      },
      "execution_count": 29,
      "outputs": []
    },
    {
      "cell_type": "code",
      "source": [
        "# definindo o peso da rede\n",
        "w = 2 * np.random.random((3, 1)) - 1\n",
        "\n",
        "# tipo do objeto, dimensão e o conteúdo\n",
        "type(w), w.shape, w"
      ],
      "metadata": {
        "colab": {
          "base_uri": "https://localhost:8080/"
        },
        "id": "PEk_k6dbhEOQ",
        "outputId": "d58dace6-6499-4013-f0ef-482f7791d4d7"
      },
      "execution_count": 30,
      "outputs": [
        {
          "output_type": "execute_result",
          "data": {
            "text/plain": [
              "(numpy.ndarray,\n",
              " (3, 1),\n",
              " array([[-0.16595599],\n",
              "        [ 0.44064899],\n",
              "        [-0.99977125]]))"
            ]
          },
          "metadata": {},
          "execution_count": 30
        }
      ]
    },
    {
      "cell_type": "code",
      "source": [
        "# funação para calcular a sigmóide \n",
        "def sigmoid(x: float) -> float:\n",
        "    return 1 / (1 + np.exp(-x))"
      ],
      "metadata": {
        "id": "AV4rMm81hEIt"
      },
      "execution_count": 31,
      "outputs": []
    },
    {
      "cell_type": "code",
      "source": [
        "# função para calcular a derivada da sigmóide\n",
        "def derivative_sigmoid(x: float) -> float:\n",
        "    return x * (1 - x)"
      ],
      "metadata": {
        "id": "wXpilYnmhEHj"
      },
      "execution_count": 32,
      "outputs": []
    },
    {
      "cell_type": "code",
      "source": [
        "# realizando um laço de repetição com os dados \n",
        "for i in range(1_000):\n",
        "    input_layer = data\n",
        "    output = sigmoid(x=np.dot(input_layer, w)).round(1)\n",
        "    error = labels - output\n",
        "    adjustments = error * derivative_sigmoid(x=output)\n",
        "    w += np.dot(a=input_layer.T, b=adjustments)\n",
        "\n",
        "# visualizando o resultado da rede\n",
        "output"
      ],
      "metadata": {
        "colab": {
          "base_uri": "https://localhost:8080/"
        },
        "id": "QUR_HqIxhECW",
        "outputId": "c402f7ce-7312-4bf0-b3ac-a25130dd155b"
      },
      "execution_count": 33,
      "outputs": [
        {
          "output_type": "execute_result",
          "data": {
            "text/plain": [
              "array([[0.],\n",
              "       [1.],\n",
              "       [1.],\n",
              "       [0.]])"
            ]
          },
          "metadata": {},
          "execution_count": 33
        }
      ]
    },
    {
      "cell_type": "code",
      "source": [
        "# instanciando uma nova matriz com novos dados\n",
        "data_2 = np.array([\n",
        "    [0, 0, 1],\n",
        "    [1, 1, 1],\n",
        "    [1, 0, 1],\n",
        "    [0, 1, 1],\n",
        "    [0, 0, 0],\n",
        "    [1, 0, 0],\n",
        "    [0, 1, 0]\n",
        "])\n",
        "\n",
        "# tipo do objeto e sua dimensão\n",
        "type(data_2), data_2.ndim"
      ],
      "metadata": {
        "colab": {
          "base_uri": "https://localhost:8080/"
        },
        "id": "qgMr9jVVhEBN",
        "outputId": "1bdf2dd2-6482-4d89-b9a9-bf3f421d4c57"
      },
      "execution_count": 34,
      "outputs": [
        {
          "output_type": "execute_result",
          "data": {
            "text/plain": [
              "(numpy.ndarray, 2)"
            ]
          },
          "metadata": {},
          "execution_count": 34
        }
      ]
    },
    {
      "cell_type": "code",
      "source": [
        "# dimensão geral e o conteúdo da nova matriz\n",
        "data_2.shape, data_2"
      ],
      "metadata": {
        "colab": {
          "base_uri": "https://localhost:8080/"
        },
        "id": "3DxsPhlzN60p",
        "outputId": "246f47d6-c16b-4ea5-a244-0a24bfee9f39"
      },
      "execution_count": 35,
      "outputs": [
        {
          "output_type": "execute_result",
          "data": {
            "text/plain": [
              "((7, 3),\n",
              " array([[0, 0, 1],\n",
              "        [1, 1, 1],\n",
              "        [1, 0, 1],\n",
              "        [0, 1, 1],\n",
              "        [0, 0, 0],\n",
              "        [1, 0, 0],\n",
              "        [0, 1, 0]]))"
            ]
          },
          "metadata": {},
          "execution_count": 35
        }
      ]
    },
    {
      "cell_type": "code",
      "source": [
        "# nova matriz com rótulos\n",
        "labels_2 = np.array([\n",
        "    [0, 1, 1, 0, 0, 1, 0]\n",
        "]).reshape(-1, 1)\n",
        "\n",
        "# tipo do objeto e sua dimensão\n",
        "type(labels_2), labels_2.ndim"
      ],
      "metadata": {
        "colab": {
          "base_uri": "https://localhost:8080/"
        },
        "id": "ksFJSLwLhD_M",
        "outputId": "331b5277-f98a-40c6-8800-0529caca9412"
      },
      "execution_count": 36,
      "outputs": [
        {
          "output_type": "execute_result",
          "data": {
            "text/plain": [
              "(numpy.ndarray, 2)"
            ]
          },
          "metadata": {},
          "execution_count": 36
        }
      ]
    },
    {
      "cell_type": "code",
      "source": [
        "# dimensão geral e o conteúdo da nova matriz de rótulos\n",
        "labels_2.shape, labels_2"
      ],
      "metadata": {
        "colab": {
          "base_uri": "https://localhost:8080/"
        },
        "id": "vzKDzwnpOFTg",
        "outputId": "41f7b054-1acd-444d-b840-ae97aa37ef05"
      },
      "execution_count": 37,
      "outputs": [
        {
          "output_type": "execute_result",
          "data": {
            "text/plain": [
              "((7, 1),\n",
              " array([[0],\n",
              "        [1],\n",
              "        [1],\n",
              "        [0],\n",
              "        [0],\n",
              "        [1],\n",
              "        [0]]))"
            ]
          },
          "metadata": {},
          "execution_count": 37
        }
      ]
    },
    {
      "cell_type": "code",
      "source": [
        "# definindo o peso da rede\n",
        "w = 2 * np.random.random((3, 1)) - 1\n",
        "\n",
        "# tipo do objeto, dimensão e o conteúdo\n",
        "type(w), w.shape, w"
      ],
      "metadata": {
        "colab": {
          "base_uri": "https://localhost:8080/"
        },
        "id": "lOZyaQT_vDyH",
        "outputId": "80d012b2-e5c2-4c67-e570-7d6ac1fc3b34"
      },
      "execution_count": 38,
      "outputs": [
        {
          "output_type": "execute_result",
          "data": {
            "text/plain": [
              "(numpy.ndarray,\n",
              " (3, 1),\n",
              " array([[-0.39533485],\n",
              "        [-0.70648822],\n",
              "        [-0.81532281]]))"
            ]
          },
          "metadata": {},
          "execution_count": 38
        }
      ]
    },
    {
      "cell_type": "code",
      "source": [
        "# realizando o treinamento da rede com os novos dados e seus respectivos rótulos\n",
        "for i in range(10_000):\n",
        "    input_layer = data_2\n",
        "    output = sigmoid(x=np.dot(a=input_layer, b=w)).round(1)\n",
        "    error = labels_2 - output\n",
        "    adjustments = error * derivative_sigmoid(x=output)\n",
        "    w += np.dot(a=input_layer.T, b=adjustments)\n",
        "\n",
        "# visualizando o resultado final da rede\n",
        "output"
      ],
      "metadata": {
        "colab": {
          "base_uri": "https://localhost:8080/"
        },
        "id": "0TgRDTnfhD94",
        "outputId": "90a89ff8-782a-4b12-f424-547590e640ba"
      },
      "execution_count": 39,
      "outputs": [
        {
          "output_type": "execute_result",
          "data": {
            "text/plain": [
              "array([[0. ],\n",
              "       [1. ],\n",
              "       [1. ],\n",
              "       [0. ],\n",
              "       [0.5],\n",
              "       [1. ],\n",
              "       [0. ]])"
            ]
          },
          "metadata": {},
          "execution_count": 39
        }
      ]
    },
    {
      "cell_type": "code",
      "source": [],
      "metadata": {
        "id": "UaOR36j0JivJ"
      },
      "execution_count": null,
      "outputs": []
    },
    {
      "cell_type": "code",
      "source": [
        "# instanciando outra matriz com novos dados\n",
        "data_3 = np.array([\n",
        "    [0, 0, 1, 0],\n",
        "    [0, 0, 0, 1],\n",
        "    [0, 1, 0, 1],\n",
        "    [1, 0, 0, 0],\n",
        "    [1, 0, 1, 0]\n",
        "])\n",
        "\n",
        "# tipo do objeto e sua dimensão\n",
        "type(data_3), data_3.shape"
      ],
      "metadata": {
        "colab": {
          "base_uri": "https://localhost:8080/"
        },
        "id": "1JbTpRN5s1sO",
        "outputId": "b04b9799-d0ce-4457-e65c-e342ed0631bf"
      },
      "execution_count": 40,
      "outputs": [
        {
          "output_type": "execute_result",
          "data": {
            "text/plain": [
              "(numpy.ndarray, (5, 4))"
            ]
          },
          "metadata": {},
          "execution_count": 40
        }
      ]
    },
    {
      "cell_type": "code",
      "source": [
        "# nova matriz com rótulos\n",
        "labels_3 = np.array([\n",
        "    [1, 0, 0, 1, 1]\n",
        "]).reshape(-1, 1)\n",
        "\n",
        "# tipo do objeto e sua dimensão\n",
        "type(labels_3), labels_3.shape"
      ],
      "metadata": {
        "colab": {
          "base_uri": "https://localhost:8080/"
        },
        "id": "dcGDRoj2s1om",
        "outputId": "255a1fdf-a8f4-49ae-fa26-0fcb8a7db0ca"
      },
      "execution_count": 41,
      "outputs": [
        {
          "output_type": "execute_result",
          "data": {
            "text/plain": [
              "(numpy.ndarray, (5, 1))"
            ]
          },
          "metadata": {},
          "execution_count": 41
        }
      ]
    },
    {
      "cell_type": "code",
      "source": [
        "# definindo o peso da rede\n",
        "w = 2 * np.random.random((4, 1)) - 1\n",
        "\n",
        "# tipo do objeto, dimensão e o conteúdo\n",
        "type(w), w.shape, w"
      ],
      "metadata": {
        "colab": {
          "base_uri": "https://localhost:8080/"
        },
        "id": "9HMyyV0tuFn1",
        "outputId": "aa8227e8-cb78-4278-c250-a97e309bf02d"
      },
      "execution_count": 42,
      "outputs": [
        {
          "output_type": "execute_result",
          "data": {
            "text/plain": [
              "(numpy.ndarray,\n",
              " (4, 1),\n",
              " array([[-0.62747958],\n",
              "        [-0.30887855],\n",
              "        [-0.20646505],\n",
              "        [ 0.07763347]]))"
            ]
          },
          "metadata": {},
          "execution_count": 42
        }
      ]
    },
    {
      "cell_type": "code",
      "source": [
        "# realizando o treinamento da rede com os novos dados e seus respectivos rótulos\n",
        "for i in range(10_000):\n",
        "    input_layer = data_3\n",
        "    output = sigmoid(x=np.dot(a=input_layer, b=w)).round(1)\n",
        "    error = labels_3 - output\n",
        "    adjustments = error * derivative_sigmoid(x=output)\n",
        "    w += np.dot(a=input_layer.T, b=adjustments)\n",
        "\n",
        "# visualizando o resultado final da rede\n",
        "output"
      ],
      "metadata": {
        "colab": {
          "base_uri": "https://localhost:8080/"
        },
        "id": "-9-9lJ3as1iO",
        "outputId": "00ddb010-45f1-421d-83c1-2be8d0186acc"
      },
      "execution_count": 43,
      "outputs": [
        {
          "output_type": "execute_result",
          "data": {
            "text/plain": [
              "array([[1.],\n",
              "       [0.],\n",
              "       [0.],\n",
              "       [1.],\n",
              "       [1.]])"
            ]
          },
          "metadata": {},
          "execution_count": 43
        }
      ]
    },
    {
      "cell_type": "code",
      "source": [],
      "metadata": {
        "id": "hh92A4INt4f7"
      },
      "execution_count": null,
      "outputs": []
    },
    {
      "cell_type": "code",
      "source": [
        "# importando módulo para criação de dataset\n",
        "from sklearn.datasets import make_blobs\n",
        "\n",
        "# definindo os atributos e os seus respectivos rótulos\n",
        "features, labels = make_blobs(\n",
        "    n_samples=20,\n",
        "    centers=2,\n",
        "    center_box=(-1, 1),\n",
        "    cluster_std=0.1,\n",
        "    random_state=np.random.seed(1)\n",
        ")"
      ],
      "metadata": {
        "id": "R2y0lzzGhD2h"
      },
      "execution_count": 44,
      "outputs": []
    },
    {
      "cell_type": "code",
      "source": [
        "# tipo do objeto e dimensão do objeto \"features\"\n",
        "type(features), features.ndim"
      ],
      "metadata": {
        "colab": {
          "base_uri": "https://localhost:8080/"
        },
        "id": "ovjCde6UL5gP",
        "outputId": "4de59579-12d9-4acc-a3a7-bec321ca3b4f"
      },
      "execution_count": 45,
      "outputs": [
        {
          "output_type": "execute_result",
          "data": {
            "text/plain": [
              "(numpy.ndarray, 2)"
            ]
          },
          "metadata": {},
          "execution_count": 45
        }
      ]
    },
    {
      "cell_type": "code",
      "source": [
        "# dimensão geral e o conteúdo da matriz \"features\"\n",
        "features.shape, features"
      ],
      "metadata": {
        "colab": {
          "base_uri": "https://localhost:8080/"
        },
        "id": "Cx3nEVKMOL3G",
        "outputId": "419c80db-13af-47b1-e25d-f8b1d2130818"
      },
      "execution_count": 46,
      "outputs": [
        {
          "output_type": "execute_result",
          "data": {
            "text/plain": [
              "((20, 2),\n",
              " array([[-1.06848852, -0.47985542],\n",
              "        [-1.06689586, -0.39660131],\n",
              "        [-0.07941523,  0.21049512],\n",
              "        [-0.18319881,  0.35286315],\n",
              "        [-0.27601791,  0.55512136],\n",
              "        [-0.90961218, -0.34508542],\n",
              "        [-1.01895481, -0.48409775],\n",
              "        [-0.90968566, -0.46370764],\n",
              "        [ 0.00852519,  0.3645283 ],\n",
              "        [-1.01206027, -0.4889118 ],\n",
              "        [-0.19819771,  0.40224355],\n",
              "        [-0.0197452 ,  0.23463492],\n",
              "        [-0.05257905,  0.33065986],\n",
              "        [-1.06893733, -0.43501021],\n",
              "        [-0.83379103, -0.32113044],\n",
              "        [-0.16173462,  0.49893051],\n",
              "        [-0.21877317,  0.33335212],\n",
              "        [-0.13405208,  0.41571195],\n",
              "        [-1.02656006, -0.34229931],\n",
              "        [-1.11150229, -0.37189328]]))"
            ]
          },
          "metadata": {},
          "execution_count": 46
        }
      ]
    },
    {
      "cell_type": "code",
      "source": [
        "# tipo do objeto e a dimensão da matriz \"labels\"\n",
        "type(labels), labels.ndim"
      ],
      "metadata": {
        "colab": {
          "base_uri": "https://localhost:8080/"
        },
        "id": "8Gw2apWUL7v7",
        "outputId": "c16ca9c6-3ae1-44fd-b8f7-1f22efad0b53"
      },
      "execution_count": 47,
      "outputs": [
        {
          "output_type": "execute_result",
          "data": {
            "text/plain": [
              "(numpy.ndarray, 1)"
            ]
          },
          "metadata": {},
          "execution_count": 47
        }
      ]
    },
    {
      "cell_type": "code",
      "source": [
        "# realizando a transposição da matriz '\"labels\"\n",
        "labels = labels.reshape(-1, 1)\n",
        "\n",
        "# dimensão, dimensão geral e o conteúdo\n",
        "labels.ndim, labels.shape, labels"
      ],
      "metadata": {
        "colab": {
          "base_uri": "https://localhost:8080/"
        },
        "id": "CVmXPq-TOXV2",
        "outputId": "efc3500b-8887-4c70-d022-b76080921fcb"
      },
      "execution_count": 48,
      "outputs": [
        {
          "output_type": "execute_result",
          "data": {
            "text/plain": [
              "(2,\n",
              " (20, 1),\n",
              " array([[1],\n",
              "        [1],\n",
              "        [0],\n",
              "        [0],\n",
              "        [0],\n",
              "        [1],\n",
              "        [1],\n",
              "        [1],\n",
              "        [0],\n",
              "        [1],\n",
              "        [0],\n",
              "        [0],\n",
              "        [0],\n",
              "        [1],\n",
              "        [1],\n",
              "        [0],\n",
              "        [0],\n",
              "        [0],\n",
              "        [1],\n",
              "        [1]]))"
            ]
          },
          "metadata": {},
          "execution_count": 48
        }
      ]
    },
    {
      "cell_type": "code",
      "source": [
        "# instanciando o peso da rede\n",
        "w = 2 * np.random.random((2, 1)) - 1\n",
        "\n",
        "# tipo do objeto, dimensão geral e o conteúdo\n",
        "type(w), w.shape, w"
      ],
      "metadata": {
        "colab": {
          "base_uri": "https://localhost:8080/"
        },
        "id": "2fdp4T29Pl8j",
        "outputId": "a51afe30-3fda-4639-9f6d-46d5cbf3f432"
      },
      "execution_count": 49,
      "outputs": [
        {
          "output_type": "execute_result",
          "data": {
            "text/plain": [
              "(numpy.ndarray,\n",
              " (2, 1),\n",
              " array([[-0.10403964],\n",
              "        [ 0.78427174]]))"
            ]
          },
          "metadata": {},
          "execution_count": 49
        }
      ]
    },
    {
      "cell_type": "code",
      "source": [
        "# realizando o treinamento da rede\n",
        "for i in range(100_000):\n",
        "    input_layer = features\n",
        "    output = sigmoid(x=np.dot(a=input_layer, b=w)).round(1)\n",
        "    error = labels - output\n",
        "    adjustments = error * derivative_sigmoid(x=output)\n",
        "    w += np.dot(a=input_layer.T, b=adjustments)\n",
        "\n",
        "# visualizando o resultado\n",
        "output"
      ],
      "metadata": {
        "id": "e0MD7CG-7qJC",
        "colab": {
          "base_uri": "https://localhost:8080/"
        },
        "outputId": "a7a674a2-378b-470b-b2f3-366025f4b049"
      },
      "execution_count": 50,
      "outputs": [
        {
          "output_type": "execute_result",
          "data": {
            "text/plain": [
              "array([[1.],\n",
              "       [1.],\n",
              "       [0.],\n",
              "       [0.],\n",
              "       [0.],\n",
              "       [1.],\n",
              "       [1.],\n",
              "       [1.],\n",
              "       [0.],\n",
              "       [1.],\n",
              "       [0.],\n",
              "       [0.],\n",
              "       [0.],\n",
              "       [1.],\n",
              "       [1.],\n",
              "       [0.],\n",
              "       [0.],\n",
              "       [0.],\n",
              "       [1.],\n",
              "       [1.]])"
            ]
          },
          "metadata": {},
          "execution_count": 50
        }
      ]
    },
    {
      "cell_type": "code",
      "source": [
        "# dimensão geral dos objetos\n",
        "labels.shape, output.shape"
      ],
      "metadata": {
        "colab": {
          "base_uri": "https://localhost:8080/"
        },
        "id": "Q8Zl9wCISa9g",
        "outputId": "5e28896c-b287-4eae-90fe-3de2578af630"
      },
      "execution_count": 51,
      "outputs": [
        {
          "output_type": "execute_result",
          "data": {
            "text/plain": [
              "((20, 1), (20, 1))"
            ]
          },
          "metadata": {},
          "execution_count": 51
        }
      ]
    },
    {
      "cell_type": "code",
      "source": [
        "# dimensão dos objetos\n",
        "labels.ndim, output.ndim"
      ],
      "metadata": {
        "colab": {
          "base_uri": "https://localhost:8080/"
        },
        "id": "mOML0v8sTMhN",
        "outputId": "e3be6926-25e4-49f2-d8ed-b867dd9fb56a"
      },
      "execution_count": 52,
      "outputs": [
        {
          "output_type": "execute_result",
          "data": {
            "text/plain": [
              "(2, 2)"
            ]
          },
          "metadata": {},
          "execution_count": 52
        }
      ]
    },
    {
      "cell_type": "code",
      "source": [
        "# dados do \"labels\"\n",
        "np.array(labels)"
      ],
      "metadata": {
        "colab": {
          "base_uri": "https://localhost:8080/"
        },
        "id": "wW5JzUD5TXf1",
        "outputId": "ee5c9b9b-59c2-4859-c829-2d3e2c780ead"
      },
      "execution_count": 53,
      "outputs": [
        {
          "output_type": "execute_result",
          "data": {
            "text/plain": [
              "array([[1],\n",
              "       [1],\n",
              "       [0],\n",
              "       [0],\n",
              "       [0],\n",
              "       [1],\n",
              "       [1],\n",
              "       [1],\n",
              "       [0],\n",
              "       [1],\n",
              "       [0],\n",
              "       [0],\n",
              "       [0],\n",
              "       [1],\n",
              "       [1],\n",
              "       [0],\n",
              "       [0],\n",
              "       [0],\n",
              "       [1],\n",
              "       [1]])"
            ]
          },
          "metadata": {},
          "execution_count": 53
        }
      ]
    },
    {
      "cell_type": "code",
      "source": [
        "# importando biblioteca para análise e manipulação de dados\n",
        "import pandas as pd\n",
        "\n",
        "# versão da biblioteca\n",
        "print(f'[VERSION] Pandas: {pd.__version__}')"
      ],
      "metadata": {
        "colab": {
          "base_uri": "https://localhost:8080/"
        },
        "id": "SzOVtUm2XRoD",
        "outputId": "2b89d624-59ec-48cc-a0cc-eeea0ae9a9cf"
      },
      "execution_count": 54,
      "outputs": [
        {
          "output_type": "stream",
          "name": "stdout",
          "text": [
            "[VERSION] Pandas: 1.5.3\n"
          ]
        }
      ]
    },
    {
      "cell_type": "code",
      "source": [
        "# concatenando os objetos\n",
        "pd.concat(\n",
        "    objs=[pd.DataFrame(labels.reshape(-1, )), \n",
        "          pd.DataFrame(output.reshape(-1, ))],\n",
        "    axis=1, \n",
        ")"
      ],
      "metadata": {
        "colab": {
          "base_uri": "https://localhost:8080/",
          "height": 677
        },
        "id": "CbQrD8itVagO",
        "outputId": "d46ae7a8-46a1-4a8d-e999-85f2ad3b4b97"
      },
      "execution_count": 55,
      "outputs": [
        {
          "output_type": "execute_result",
          "data": {
            "text/plain": [
              "    0    0\n",
              "0   1  1.0\n",
              "1   1  1.0\n",
              "2   0  0.0\n",
              "3   0  0.0\n",
              "4   0  0.0\n",
              "5   1  1.0\n",
              "6   1  1.0\n",
              "7   1  1.0\n",
              "8   0  0.0\n",
              "9   1  1.0\n",
              "10  0  0.0\n",
              "11  0  0.0\n",
              "12  0  0.0\n",
              "13  1  1.0\n",
              "14  1  1.0\n",
              "15  0  0.0\n",
              "16  0  0.0\n",
              "17  0  0.0\n",
              "18  1  1.0\n",
              "19  1  1.0"
            ],
            "text/html": [
              "\n",
              "  <div id=\"df-df87f3c2-9a04-48ce-aa1e-e6144279657b\">\n",
              "    <div class=\"colab-df-container\">\n",
              "      <div>\n",
              "<style scoped>\n",
              "    .dataframe tbody tr th:only-of-type {\n",
              "        vertical-align: middle;\n",
              "    }\n",
              "\n",
              "    .dataframe tbody tr th {\n",
              "        vertical-align: top;\n",
              "    }\n",
              "\n",
              "    .dataframe thead th {\n",
              "        text-align: right;\n",
              "    }\n",
              "</style>\n",
              "<table border=\"1\" class=\"dataframe\">\n",
              "  <thead>\n",
              "    <tr style=\"text-align: right;\">\n",
              "      <th></th>\n",
              "      <th>0</th>\n",
              "      <th>0</th>\n",
              "    </tr>\n",
              "  </thead>\n",
              "  <tbody>\n",
              "    <tr>\n",
              "      <th>0</th>\n",
              "      <td>1</td>\n",
              "      <td>1.0</td>\n",
              "    </tr>\n",
              "    <tr>\n",
              "      <th>1</th>\n",
              "      <td>1</td>\n",
              "      <td>1.0</td>\n",
              "    </tr>\n",
              "    <tr>\n",
              "      <th>2</th>\n",
              "      <td>0</td>\n",
              "      <td>0.0</td>\n",
              "    </tr>\n",
              "    <tr>\n",
              "      <th>3</th>\n",
              "      <td>0</td>\n",
              "      <td>0.0</td>\n",
              "    </tr>\n",
              "    <tr>\n",
              "      <th>4</th>\n",
              "      <td>0</td>\n",
              "      <td>0.0</td>\n",
              "    </tr>\n",
              "    <tr>\n",
              "      <th>5</th>\n",
              "      <td>1</td>\n",
              "      <td>1.0</td>\n",
              "    </tr>\n",
              "    <tr>\n",
              "      <th>6</th>\n",
              "      <td>1</td>\n",
              "      <td>1.0</td>\n",
              "    </tr>\n",
              "    <tr>\n",
              "      <th>7</th>\n",
              "      <td>1</td>\n",
              "      <td>1.0</td>\n",
              "    </tr>\n",
              "    <tr>\n",
              "      <th>8</th>\n",
              "      <td>0</td>\n",
              "      <td>0.0</td>\n",
              "    </tr>\n",
              "    <tr>\n",
              "      <th>9</th>\n",
              "      <td>1</td>\n",
              "      <td>1.0</td>\n",
              "    </tr>\n",
              "    <tr>\n",
              "      <th>10</th>\n",
              "      <td>0</td>\n",
              "      <td>0.0</td>\n",
              "    </tr>\n",
              "    <tr>\n",
              "      <th>11</th>\n",
              "      <td>0</td>\n",
              "      <td>0.0</td>\n",
              "    </tr>\n",
              "    <tr>\n",
              "      <th>12</th>\n",
              "      <td>0</td>\n",
              "      <td>0.0</td>\n",
              "    </tr>\n",
              "    <tr>\n",
              "      <th>13</th>\n",
              "      <td>1</td>\n",
              "      <td>1.0</td>\n",
              "    </tr>\n",
              "    <tr>\n",
              "      <th>14</th>\n",
              "      <td>1</td>\n",
              "      <td>1.0</td>\n",
              "    </tr>\n",
              "    <tr>\n",
              "      <th>15</th>\n",
              "      <td>0</td>\n",
              "      <td>0.0</td>\n",
              "    </tr>\n",
              "    <tr>\n",
              "      <th>16</th>\n",
              "      <td>0</td>\n",
              "      <td>0.0</td>\n",
              "    </tr>\n",
              "    <tr>\n",
              "      <th>17</th>\n",
              "      <td>0</td>\n",
              "      <td>0.0</td>\n",
              "    </tr>\n",
              "    <tr>\n",
              "      <th>18</th>\n",
              "      <td>1</td>\n",
              "      <td>1.0</td>\n",
              "    </tr>\n",
              "    <tr>\n",
              "      <th>19</th>\n",
              "      <td>1</td>\n",
              "      <td>1.0</td>\n",
              "    </tr>\n",
              "  </tbody>\n",
              "</table>\n",
              "</div>\n",
              "      <button class=\"colab-df-convert\" onclick=\"convertToInteractive('df-df87f3c2-9a04-48ce-aa1e-e6144279657b')\"\n",
              "              title=\"Convert this dataframe to an interactive table.\"\n",
              "              style=\"display:none;\">\n",
              "        \n",
              "  <svg xmlns=\"http://www.w3.org/2000/svg\" height=\"24px\"viewBox=\"0 0 24 24\"\n",
              "       width=\"24px\">\n",
              "    <path d=\"M0 0h24v24H0V0z\" fill=\"none\"/>\n",
              "    <path d=\"M18.56 5.44l.94 2.06.94-2.06 2.06-.94-2.06-.94-.94-2.06-.94 2.06-2.06.94zm-11 1L8.5 8.5l.94-2.06 2.06-.94-2.06-.94L8.5 2.5l-.94 2.06-2.06.94zm10 10l.94 2.06.94-2.06 2.06-.94-2.06-.94-.94-2.06-.94 2.06-2.06.94z\"/><path d=\"M17.41 7.96l-1.37-1.37c-.4-.4-.92-.59-1.43-.59-.52 0-1.04.2-1.43.59L10.3 9.45l-7.72 7.72c-.78.78-.78 2.05 0 2.83L4 21.41c.39.39.9.59 1.41.59.51 0 1.02-.2 1.41-.59l7.78-7.78 2.81-2.81c.8-.78.8-2.07 0-2.86zM5.41 20L4 18.59l7.72-7.72 1.47 1.35L5.41 20z\"/>\n",
              "  </svg>\n",
              "      </button>\n",
              "      \n",
              "  <style>\n",
              "    .colab-df-container {\n",
              "      display:flex;\n",
              "      flex-wrap:wrap;\n",
              "      gap: 12px;\n",
              "    }\n",
              "\n",
              "    .colab-df-convert {\n",
              "      background-color: #E8F0FE;\n",
              "      border: none;\n",
              "      border-radius: 50%;\n",
              "      cursor: pointer;\n",
              "      display: none;\n",
              "      fill: #1967D2;\n",
              "      height: 32px;\n",
              "      padding: 0 0 0 0;\n",
              "      width: 32px;\n",
              "    }\n",
              "\n",
              "    .colab-df-convert:hover {\n",
              "      background-color: #E2EBFA;\n",
              "      box-shadow: 0px 1px 2px rgba(60, 64, 67, 0.3), 0px 1px 3px 1px rgba(60, 64, 67, 0.15);\n",
              "      fill: #174EA6;\n",
              "    }\n",
              "\n",
              "    [theme=dark] .colab-df-convert {\n",
              "      background-color: #3B4455;\n",
              "      fill: #D2E3FC;\n",
              "    }\n",
              "\n",
              "    [theme=dark] .colab-df-convert:hover {\n",
              "      background-color: #434B5C;\n",
              "      box-shadow: 0px 1px 3px 1px rgba(0, 0, 0, 0.15);\n",
              "      filter: drop-shadow(0px 1px 2px rgba(0, 0, 0, 0.3));\n",
              "      fill: #FFFFFF;\n",
              "    }\n",
              "  </style>\n",
              "\n",
              "      <script>\n",
              "        const buttonEl =\n",
              "          document.querySelector('#df-df87f3c2-9a04-48ce-aa1e-e6144279657b button.colab-df-convert');\n",
              "        buttonEl.style.display =\n",
              "          google.colab.kernel.accessAllowed ? 'block' : 'none';\n",
              "\n",
              "        async function convertToInteractive(key) {\n",
              "          const element = document.querySelector('#df-df87f3c2-9a04-48ce-aa1e-e6144279657b');\n",
              "          const dataTable =\n",
              "            await google.colab.kernel.invokeFunction('convertToInteractive',\n",
              "                                                     [key], {});\n",
              "          if (!dataTable) return;\n",
              "\n",
              "          const docLinkHtml = 'Like what you see? Visit the ' +\n",
              "            '<a target=\"_blank\" href=https://colab.research.google.com/notebooks/data_table.ipynb>data table notebook</a>'\n",
              "            + ' to learn more about interactive tables.';\n",
              "          element.innerHTML = '';\n",
              "          dataTable['output_type'] = 'display_data';\n",
              "          await google.colab.output.renderOutput(dataTable, element);\n",
              "          const docLink = document.createElement('div');\n",
              "          docLink.innerHTML = docLinkHtml;\n",
              "          element.appendChild(docLink);\n",
              "        }\n",
              "      </script>\n",
              "    </div>\n",
              "  </div>\n",
              "  "
            ]
          },
          "metadata": {},
          "execution_count": 55
        }
      ]
    },
    {
      "cell_type": "code",
      "source": [
        "# instanciando um objeto do tipo data frame com os dados reais\n",
        "df_real = pd.DataFrame(data=labels.reshape(-1, ), \n",
        "                       columns=['real'])\n",
        "\n",
        "# visualizando o objeto criado\n",
        "df_real"
      ],
      "metadata": {
        "id": "bdImmAy37qFQ",
        "colab": {
          "base_uri": "https://localhost:8080/",
          "height": 677
        },
        "outputId": "dc3a57c7-1cf5-4db3-86a7-77b8bc7d6b74"
      },
      "execution_count": 56,
      "outputs": [
        {
          "output_type": "execute_result",
          "data": {
            "text/plain": [
              "    real\n",
              "0      1\n",
              "1      1\n",
              "2      0\n",
              "3      0\n",
              "4      0\n",
              "5      1\n",
              "6      1\n",
              "7      1\n",
              "8      0\n",
              "9      1\n",
              "10     0\n",
              "11     0\n",
              "12     0\n",
              "13     1\n",
              "14     1\n",
              "15     0\n",
              "16     0\n",
              "17     0\n",
              "18     1\n",
              "19     1"
            ],
            "text/html": [
              "\n",
              "  <div id=\"df-b120e722-eba2-4303-834c-bfee485d1a66\">\n",
              "    <div class=\"colab-df-container\">\n",
              "      <div>\n",
              "<style scoped>\n",
              "    .dataframe tbody tr th:only-of-type {\n",
              "        vertical-align: middle;\n",
              "    }\n",
              "\n",
              "    .dataframe tbody tr th {\n",
              "        vertical-align: top;\n",
              "    }\n",
              "\n",
              "    .dataframe thead th {\n",
              "        text-align: right;\n",
              "    }\n",
              "</style>\n",
              "<table border=\"1\" class=\"dataframe\">\n",
              "  <thead>\n",
              "    <tr style=\"text-align: right;\">\n",
              "      <th></th>\n",
              "      <th>real</th>\n",
              "    </tr>\n",
              "  </thead>\n",
              "  <tbody>\n",
              "    <tr>\n",
              "      <th>0</th>\n",
              "      <td>1</td>\n",
              "    </tr>\n",
              "    <tr>\n",
              "      <th>1</th>\n",
              "      <td>1</td>\n",
              "    </tr>\n",
              "    <tr>\n",
              "      <th>2</th>\n",
              "      <td>0</td>\n",
              "    </tr>\n",
              "    <tr>\n",
              "      <th>3</th>\n",
              "      <td>0</td>\n",
              "    </tr>\n",
              "    <tr>\n",
              "      <th>4</th>\n",
              "      <td>0</td>\n",
              "    </tr>\n",
              "    <tr>\n",
              "      <th>5</th>\n",
              "      <td>1</td>\n",
              "    </tr>\n",
              "    <tr>\n",
              "      <th>6</th>\n",
              "      <td>1</td>\n",
              "    </tr>\n",
              "    <tr>\n",
              "      <th>7</th>\n",
              "      <td>1</td>\n",
              "    </tr>\n",
              "    <tr>\n",
              "      <th>8</th>\n",
              "      <td>0</td>\n",
              "    </tr>\n",
              "    <tr>\n",
              "      <th>9</th>\n",
              "      <td>1</td>\n",
              "    </tr>\n",
              "    <tr>\n",
              "      <th>10</th>\n",
              "      <td>0</td>\n",
              "    </tr>\n",
              "    <tr>\n",
              "      <th>11</th>\n",
              "      <td>0</td>\n",
              "    </tr>\n",
              "    <tr>\n",
              "      <th>12</th>\n",
              "      <td>0</td>\n",
              "    </tr>\n",
              "    <tr>\n",
              "      <th>13</th>\n",
              "      <td>1</td>\n",
              "    </tr>\n",
              "    <tr>\n",
              "      <th>14</th>\n",
              "      <td>1</td>\n",
              "    </tr>\n",
              "    <tr>\n",
              "      <th>15</th>\n",
              "      <td>0</td>\n",
              "    </tr>\n",
              "    <tr>\n",
              "      <th>16</th>\n",
              "      <td>0</td>\n",
              "    </tr>\n",
              "    <tr>\n",
              "      <th>17</th>\n",
              "      <td>0</td>\n",
              "    </tr>\n",
              "    <tr>\n",
              "      <th>18</th>\n",
              "      <td>1</td>\n",
              "    </tr>\n",
              "    <tr>\n",
              "      <th>19</th>\n",
              "      <td>1</td>\n",
              "    </tr>\n",
              "  </tbody>\n",
              "</table>\n",
              "</div>\n",
              "      <button class=\"colab-df-convert\" onclick=\"convertToInteractive('df-b120e722-eba2-4303-834c-bfee485d1a66')\"\n",
              "              title=\"Convert this dataframe to an interactive table.\"\n",
              "              style=\"display:none;\">\n",
              "        \n",
              "  <svg xmlns=\"http://www.w3.org/2000/svg\" height=\"24px\"viewBox=\"0 0 24 24\"\n",
              "       width=\"24px\">\n",
              "    <path d=\"M0 0h24v24H0V0z\" fill=\"none\"/>\n",
              "    <path d=\"M18.56 5.44l.94 2.06.94-2.06 2.06-.94-2.06-.94-.94-2.06-.94 2.06-2.06.94zm-11 1L8.5 8.5l.94-2.06 2.06-.94-2.06-.94L8.5 2.5l-.94 2.06-2.06.94zm10 10l.94 2.06.94-2.06 2.06-.94-2.06-.94-.94-2.06-.94 2.06-2.06.94z\"/><path d=\"M17.41 7.96l-1.37-1.37c-.4-.4-.92-.59-1.43-.59-.52 0-1.04.2-1.43.59L10.3 9.45l-7.72 7.72c-.78.78-.78 2.05 0 2.83L4 21.41c.39.39.9.59 1.41.59.51 0 1.02-.2 1.41-.59l7.78-7.78 2.81-2.81c.8-.78.8-2.07 0-2.86zM5.41 20L4 18.59l7.72-7.72 1.47 1.35L5.41 20z\"/>\n",
              "  </svg>\n",
              "      </button>\n",
              "      \n",
              "  <style>\n",
              "    .colab-df-container {\n",
              "      display:flex;\n",
              "      flex-wrap:wrap;\n",
              "      gap: 12px;\n",
              "    }\n",
              "\n",
              "    .colab-df-convert {\n",
              "      background-color: #E8F0FE;\n",
              "      border: none;\n",
              "      border-radius: 50%;\n",
              "      cursor: pointer;\n",
              "      display: none;\n",
              "      fill: #1967D2;\n",
              "      height: 32px;\n",
              "      padding: 0 0 0 0;\n",
              "      width: 32px;\n",
              "    }\n",
              "\n",
              "    .colab-df-convert:hover {\n",
              "      background-color: #E2EBFA;\n",
              "      box-shadow: 0px 1px 2px rgba(60, 64, 67, 0.3), 0px 1px 3px 1px rgba(60, 64, 67, 0.15);\n",
              "      fill: #174EA6;\n",
              "    }\n",
              "\n",
              "    [theme=dark] .colab-df-convert {\n",
              "      background-color: #3B4455;\n",
              "      fill: #D2E3FC;\n",
              "    }\n",
              "\n",
              "    [theme=dark] .colab-df-convert:hover {\n",
              "      background-color: #434B5C;\n",
              "      box-shadow: 0px 1px 3px 1px rgba(0, 0, 0, 0.15);\n",
              "      filter: drop-shadow(0px 1px 2px rgba(0, 0, 0, 0.3));\n",
              "      fill: #FFFFFF;\n",
              "    }\n",
              "  </style>\n",
              "\n",
              "      <script>\n",
              "        const buttonEl =\n",
              "          document.querySelector('#df-b120e722-eba2-4303-834c-bfee485d1a66 button.colab-df-convert');\n",
              "        buttonEl.style.display =\n",
              "          google.colab.kernel.accessAllowed ? 'block' : 'none';\n",
              "\n",
              "        async function convertToInteractive(key) {\n",
              "          const element = document.querySelector('#df-b120e722-eba2-4303-834c-bfee485d1a66');\n",
              "          const dataTable =\n",
              "            await google.colab.kernel.invokeFunction('convertToInteractive',\n",
              "                                                     [key], {});\n",
              "          if (!dataTable) return;\n",
              "\n",
              "          const docLinkHtml = 'Like what you see? Visit the ' +\n",
              "            '<a target=\"_blank\" href=https://colab.research.google.com/notebooks/data_table.ipynb>data table notebook</a>'\n",
              "            + ' to learn more about interactive tables.';\n",
              "          element.innerHTML = '';\n",
              "          dataTable['output_type'] = 'display_data';\n",
              "          await google.colab.output.renderOutput(dataTable, element);\n",
              "          const docLink = document.createElement('div');\n",
              "          docLink.innerHTML = docLinkHtml;\n",
              "          element.appendChild(docLink);\n",
              "        }\n",
              "      </script>\n",
              "    </div>\n",
              "  </div>\n",
              "  "
            ]
          },
          "metadata": {},
          "execution_count": 56
        }
      ]
    },
    {
      "cell_type": "code",
      "source": [
        "# instanciando um objeto do tipo data frame com os dados preditos\n",
        "df_predict = pd.DataFrame(data=output.reshape(-1, ), \n",
        "                          columns=['predict'])\n",
        "\n",
        "# visualizando o objeto\n",
        "df_predict"
      ],
      "metadata": {
        "colab": {
          "base_uri": "https://localhost:8080/",
          "height": 677
        },
        "id": "haCXISg9Wbzc",
        "outputId": "d4f1ef27-f7e2-4360-97be-abed4c482255"
      },
      "execution_count": 57,
      "outputs": [
        {
          "output_type": "execute_result",
          "data": {
            "text/plain": [
              "    predict\n",
              "0       1.0\n",
              "1       1.0\n",
              "2       0.0\n",
              "3       0.0\n",
              "4       0.0\n",
              "5       1.0\n",
              "6       1.0\n",
              "7       1.0\n",
              "8       0.0\n",
              "9       1.0\n",
              "10      0.0\n",
              "11      0.0\n",
              "12      0.0\n",
              "13      1.0\n",
              "14      1.0\n",
              "15      0.0\n",
              "16      0.0\n",
              "17      0.0\n",
              "18      1.0\n",
              "19      1.0"
            ],
            "text/html": [
              "\n",
              "  <div id=\"df-76f45d06-c4e6-425f-8d2f-9817b66d01b3\">\n",
              "    <div class=\"colab-df-container\">\n",
              "      <div>\n",
              "<style scoped>\n",
              "    .dataframe tbody tr th:only-of-type {\n",
              "        vertical-align: middle;\n",
              "    }\n",
              "\n",
              "    .dataframe tbody tr th {\n",
              "        vertical-align: top;\n",
              "    }\n",
              "\n",
              "    .dataframe thead th {\n",
              "        text-align: right;\n",
              "    }\n",
              "</style>\n",
              "<table border=\"1\" class=\"dataframe\">\n",
              "  <thead>\n",
              "    <tr style=\"text-align: right;\">\n",
              "      <th></th>\n",
              "      <th>predict</th>\n",
              "    </tr>\n",
              "  </thead>\n",
              "  <tbody>\n",
              "    <tr>\n",
              "      <th>0</th>\n",
              "      <td>1.0</td>\n",
              "    </tr>\n",
              "    <tr>\n",
              "      <th>1</th>\n",
              "      <td>1.0</td>\n",
              "    </tr>\n",
              "    <tr>\n",
              "      <th>2</th>\n",
              "      <td>0.0</td>\n",
              "    </tr>\n",
              "    <tr>\n",
              "      <th>3</th>\n",
              "      <td>0.0</td>\n",
              "    </tr>\n",
              "    <tr>\n",
              "      <th>4</th>\n",
              "      <td>0.0</td>\n",
              "    </tr>\n",
              "    <tr>\n",
              "      <th>5</th>\n",
              "      <td>1.0</td>\n",
              "    </tr>\n",
              "    <tr>\n",
              "      <th>6</th>\n",
              "      <td>1.0</td>\n",
              "    </tr>\n",
              "    <tr>\n",
              "      <th>7</th>\n",
              "      <td>1.0</td>\n",
              "    </tr>\n",
              "    <tr>\n",
              "      <th>8</th>\n",
              "      <td>0.0</td>\n",
              "    </tr>\n",
              "    <tr>\n",
              "      <th>9</th>\n",
              "      <td>1.0</td>\n",
              "    </tr>\n",
              "    <tr>\n",
              "      <th>10</th>\n",
              "      <td>0.0</td>\n",
              "    </tr>\n",
              "    <tr>\n",
              "      <th>11</th>\n",
              "      <td>0.0</td>\n",
              "    </tr>\n",
              "    <tr>\n",
              "      <th>12</th>\n",
              "      <td>0.0</td>\n",
              "    </tr>\n",
              "    <tr>\n",
              "      <th>13</th>\n",
              "      <td>1.0</td>\n",
              "    </tr>\n",
              "    <tr>\n",
              "      <th>14</th>\n",
              "      <td>1.0</td>\n",
              "    </tr>\n",
              "    <tr>\n",
              "      <th>15</th>\n",
              "      <td>0.0</td>\n",
              "    </tr>\n",
              "    <tr>\n",
              "      <th>16</th>\n",
              "      <td>0.0</td>\n",
              "    </tr>\n",
              "    <tr>\n",
              "      <th>17</th>\n",
              "      <td>0.0</td>\n",
              "    </tr>\n",
              "    <tr>\n",
              "      <th>18</th>\n",
              "      <td>1.0</td>\n",
              "    </tr>\n",
              "    <tr>\n",
              "      <th>19</th>\n",
              "      <td>1.0</td>\n",
              "    </tr>\n",
              "  </tbody>\n",
              "</table>\n",
              "</div>\n",
              "      <button class=\"colab-df-convert\" onclick=\"convertToInteractive('df-76f45d06-c4e6-425f-8d2f-9817b66d01b3')\"\n",
              "              title=\"Convert this dataframe to an interactive table.\"\n",
              "              style=\"display:none;\">\n",
              "        \n",
              "  <svg xmlns=\"http://www.w3.org/2000/svg\" height=\"24px\"viewBox=\"0 0 24 24\"\n",
              "       width=\"24px\">\n",
              "    <path d=\"M0 0h24v24H0V0z\" fill=\"none\"/>\n",
              "    <path d=\"M18.56 5.44l.94 2.06.94-2.06 2.06-.94-2.06-.94-.94-2.06-.94 2.06-2.06.94zm-11 1L8.5 8.5l.94-2.06 2.06-.94-2.06-.94L8.5 2.5l-.94 2.06-2.06.94zm10 10l.94 2.06.94-2.06 2.06-.94-2.06-.94-.94-2.06-.94 2.06-2.06.94z\"/><path d=\"M17.41 7.96l-1.37-1.37c-.4-.4-.92-.59-1.43-.59-.52 0-1.04.2-1.43.59L10.3 9.45l-7.72 7.72c-.78.78-.78 2.05 0 2.83L4 21.41c.39.39.9.59 1.41.59.51 0 1.02-.2 1.41-.59l7.78-7.78 2.81-2.81c.8-.78.8-2.07 0-2.86zM5.41 20L4 18.59l7.72-7.72 1.47 1.35L5.41 20z\"/>\n",
              "  </svg>\n",
              "      </button>\n",
              "      \n",
              "  <style>\n",
              "    .colab-df-container {\n",
              "      display:flex;\n",
              "      flex-wrap:wrap;\n",
              "      gap: 12px;\n",
              "    }\n",
              "\n",
              "    .colab-df-convert {\n",
              "      background-color: #E8F0FE;\n",
              "      border: none;\n",
              "      border-radius: 50%;\n",
              "      cursor: pointer;\n",
              "      display: none;\n",
              "      fill: #1967D2;\n",
              "      height: 32px;\n",
              "      padding: 0 0 0 0;\n",
              "      width: 32px;\n",
              "    }\n",
              "\n",
              "    .colab-df-convert:hover {\n",
              "      background-color: #E2EBFA;\n",
              "      box-shadow: 0px 1px 2px rgba(60, 64, 67, 0.3), 0px 1px 3px 1px rgba(60, 64, 67, 0.15);\n",
              "      fill: #174EA6;\n",
              "    }\n",
              "\n",
              "    [theme=dark] .colab-df-convert {\n",
              "      background-color: #3B4455;\n",
              "      fill: #D2E3FC;\n",
              "    }\n",
              "\n",
              "    [theme=dark] .colab-df-convert:hover {\n",
              "      background-color: #434B5C;\n",
              "      box-shadow: 0px 1px 3px 1px rgba(0, 0, 0, 0.15);\n",
              "      filter: drop-shadow(0px 1px 2px rgba(0, 0, 0, 0.3));\n",
              "      fill: #FFFFFF;\n",
              "    }\n",
              "  </style>\n",
              "\n",
              "      <script>\n",
              "        const buttonEl =\n",
              "          document.querySelector('#df-76f45d06-c4e6-425f-8d2f-9817b66d01b3 button.colab-df-convert');\n",
              "        buttonEl.style.display =\n",
              "          google.colab.kernel.accessAllowed ? 'block' : 'none';\n",
              "\n",
              "        async function convertToInteractive(key) {\n",
              "          const element = document.querySelector('#df-76f45d06-c4e6-425f-8d2f-9817b66d01b3');\n",
              "          const dataTable =\n",
              "            await google.colab.kernel.invokeFunction('convertToInteractive',\n",
              "                                                     [key], {});\n",
              "          if (!dataTable) return;\n",
              "\n",
              "          const docLinkHtml = 'Like what you see? Visit the ' +\n",
              "            '<a target=\"_blank\" href=https://colab.research.google.com/notebooks/data_table.ipynb>data table notebook</a>'\n",
              "            + ' to learn more about interactive tables.';\n",
              "          element.innerHTML = '';\n",
              "          dataTable['output_type'] = 'display_data';\n",
              "          await google.colab.output.renderOutput(dataTable, element);\n",
              "          const docLink = document.createElement('div');\n",
              "          docLink.innerHTML = docLinkHtml;\n",
              "          element.appendChild(docLink);\n",
              "        }\n",
              "      </script>\n",
              "    </div>\n",
              "  </div>\n",
              "  "
            ]
          },
          "metadata": {},
          "execution_count": 57
        }
      ]
    },
    {
      "cell_type": "code",
      "source": [
        "# concatenando os objetos \"df_real\" e \"df_predict\"\n",
        "pd.concat(\n",
        "    objs=[df_real, df_predict], axis=1\n",
        ")"
      ],
      "metadata": {
        "id": "qJZJ548r7qB_",
        "colab": {
          "base_uri": "https://localhost:8080/",
          "height": 677
        },
        "outputId": "0395e418-021d-4ff9-e90f-87154a14c8ff"
      },
      "execution_count": 58,
      "outputs": [
        {
          "output_type": "execute_result",
          "data": {
            "text/plain": [
              "    real  predict\n",
              "0      1      1.0\n",
              "1      1      1.0\n",
              "2      0      0.0\n",
              "3      0      0.0\n",
              "4      0      0.0\n",
              "5      1      1.0\n",
              "6      1      1.0\n",
              "7      1      1.0\n",
              "8      0      0.0\n",
              "9      1      1.0\n",
              "10     0      0.0\n",
              "11     0      0.0\n",
              "12     0      0.0\n",
              "13     1      1.0\n",
              "14     1      1.0\n",
              "15     0      0.0\n",
              "16     0      0.0\n",
              "17     0      0.0\n",
              "18     1      1.0\n",
              "19     1      1.0"
            ],
            "text/html": [
              "\n",
              "  <div id=\"df-53e3a6f5-ef17-47d2-9dcf-6d8acf9eed52\">\n",
              "    <div class=\"colab-df-container\">\n",
              "      <div>\n",
              "<style scoped>\n",
              "    .dataframe tbody tr th:only-of-type {\n",
              "        vertical-align: middle;\n",
              "    }\n",
              "\n",
              "    .dataframe tbody tr th {\n",
              "        vertical-align: top;\n",
              "    }\n",
              "\n",
              "    .dataframe thead th {\n",
              "        text-align: right;\n",
              "    }\n",
              "</style>\n",
              "<table border=\"1\" class=\"dataframe\">\n",
              "  <thead>\n",
              "    <tr style=\"text-align: right;\">\n",
              "      <th></th>\n",
              "      <th>real</th>\n",
              "      <th>predict</th>\n",
              "    </tr>\n",
              "  </thead>\n",
              "  <tbody>\n",
              "    <tr>\n",
              "      <th>0</th>\n",
              "      <td>1</td>\n",
              "      <td>1.0</td>\n",
              "    </tr>\n",
              "    <tr>\n",
              "      <th>1</th>\n",
              "      <td>1</td>\n",
              "      <td>1.0</td>\n",
              "    </tr>\n",
              "    <tr>\n",
              "      <th>2</th>\n",
              "      <td>0</td>\n",
              "      <td>0.0</td>\n",
              "    </tr>\n",
              "    <tr>\n",
              "      <th>3</th>\n",
              "      <td>0</td>\n",
              "      <td>0.0</td>\n",
              "    </tr>\n",
              "    <tr>\n",
              "      <th>4</th>\n",
              "      <td>0</td>\n",
              "      <td>0.0</td>\n",
              "    </tr>\n",
              "    <tr>\n",
              "      <th>5</th>\n",
              "      <td>1</td>\n",
              "      <td>1.0</td>\n",
              "    </tr>\n",
              "    <tr>\n",
              "      <th>6</th>\n",
              "      <td>1</td>\n",
              "      <td>1.0</td>\n",
              "    </tr>\n",
              "    <tr>\n",
              "      <th>7</th>\n",
              "      <td>1</td>\n",
              "      <td>1.0</td>\n",
              "    </tr>\n",
              "    <tr>\n",
              "      <th>8</th>\n",
              "      <td>0</td>\n",
              "      <td>0.0</td>\n",
              "    </tr>\n",
              "    <tr>\n",
              "      <th>9</th>\n",
              "      <td>1</td>\n",
              "      <td>1.0</td>\n",
              "    </tr>\n",
              "    <tr>\n",
              "      <th>10</th>\n",
              "      <td>0</td>\n",
              "      <td>0.0</td>\n",
              "    </tr>\n",
              "    <tr>\n",
              "      <th>11</th>\n",
              "      <td>0</td>\n",
              "      <td>0.0</td>\n",
              "    </tr>\n",
              "    <tr>\n",
              "      <th>12</th>\n",
              "      <td>0</td>\n",
              "      <td>0.0</td>\n",
              "    </tr>\n",
              "    <tr>\n",
              "      <th>13</th>\n",
              "      <td>1</td>\n",
              "      <td>1.0</td>\n",
              "    </tr>\n",
              "    <tr>\n",
              "      <th>14</th>\n",
              "      <td>1</td>\n",
              "      <td>1.0</td>\n",
              "    </tr>\n",
              "    <tr>\n",
              "      <th>15</th>\n",
              "      <td>0</td>\n",
              "      <td>0.0</td>\n",
              "    </tr>\n",
              "    <tr>\n",
              "      <th>16</th>\n",
              "      <td>0</td>\n",
              "      <td>0.0</td>\n",
              "    </tr>\n",
              "    <tr>\n",
              "      <th>17</th>\n",
              "      <td>0</td>\n",
              "      <td>0.0</td>\n",
              "    </tr>\n",
              "    <tr>\n",
              "      <th>18</th>\n",
              "      <td>1</td>\n",
              "      <td>1.0</td>\n",
              "    </tr>\n",
              "    <tr>\n",
              "      <th>19</th>\n",
              "      <td>1</td>\n",
              "      <td>1.0</td>\n",
              "    </tr>\n",
              "  </tbody>\n",
              "</table>\n",
              "</div>\n",
              "      <button class=\"colab-df-convert\" onclick=\"convertToInteractive('df-53e3a6f5-ef17-47d2-9dcf-6d8acf9eed52')\"\n",
              "              title=\"Convert this dataframe to an interactive table.\"\n",
              "              style=\"display:none;\">\n",
              "        \n",
              "  <svg xmlns=\"http://www.w3.org/2000/svg\" height=\"24px\"viewBox=\"0 0 24 24\"\n",
              "       width=\"24px\">\n",
              "    <path d=\"M0 0h24v24H0V0z\" fill=\"none\"/>\n",
              "    <path d=\"M18.56 5.44l.94 2.06.94-2.06 2.06-.94-2.06-.94-.94-2.06-.94 2.06-2.06.94zm-11 1L8.5 8.5l.94-2.06 2.06-.94-2.06-.94L8.5 2.5l-.94 2.06-2.06.94zm10 10l.94 2.06.94-2.06 2.06-.94-2.06-.94-.94-2.06-.94 2.06-2.06.94z\"/><path d=\"M17.41 7.96l-1.37-1.37c-.4-.4-.92-.59-1.43-.59-.52 0-1.04.2-1.43.59L10.3 9.45l-7.72 7.72c-.78.78-.78 2.05 0 2.83L4 21.41c.39.39.9.59 1.41.59.51 0 1.02-.2 1.41-.59l7.78-7.78 2.81-2.81c.8-.78.8-2.07 0-2.86zM5.41 20L4 18.59l7.72-7.72 1.47 1.35L5.41 20z\"/>\n",
              "  </svg>\n",
              "      </button>\n",
              "      \n",
              "  <style>\n",
              "    .colab-df-container {\n",
              "      display:flex;\n",
              "      flex-wrap:wrap;\n",
              "      gap: 12px;\n",
              "    }\n",
              "\n",
              "    .colab-df-convert {\n",
              "      background-color: #E8F0FE;\n",
              "      border: none;\n",
              "      border-radius: 50%;\n",
              "      cursor: pointer;\n",
              "      display: none;\n",
              "      fill: #1967D2;\n",
              "      height: 32px;\n",
              "      padding: 0 0 0 0;\n",
              "      width: 32px;\n",
              "    }\n",
              "\n",
              "    .colab-df-convert:hover {\n",
              "      background-color: #E2EBFA;\n",
              "      box-shadow: 0px 1px 2px rgba(60, 64, 67, 0.3), 0px 1px 3px 1px rgba(60, 64, 67, 0.15);\n",
              "      fill: #174EA6;\n",
              "    }\n",
              "\n",
              "    [theme=dark] .colab-df-convert {\n",
              "      background-color: #3B4455;\n",
              "      fill: #D2E3FC;\n",
              "    }\n",
              "\n",
              "    [theme=dark] .colab-df-convert:hover {\n",
              "      background-color: #434B5C;\n",
              "      box-shadow: 0px 1px 3px 1px rgba(0, 0, 0, 0.15);\n",
              "      filter: drop-shadow(0px 1px 2px rgba(0, 0, 0, 0.3));\n",
              "      fill: #FFFFFF;\n",
              "    }\n",
              "  </style>\n",
              "\n",
              "      <script>\n",
              "        const buttonEl =\n",
              "          document.querySelector('#df-53e3a6f5-ef17-47d2-9dcf-6d8acf9eed52 button.colab-df-convert');\n",
              "        buttonEl.style.display =\n",
              "          google.colab.kernel.accessAllowed ? 'block' : 'none';\n",
              "\n",
              "        async function convertToInteractive(key) {\n",
              "          const element = document.querySelector('#df-53e3a6f5-ef17-47d2-9dcf-6d8acf9eed52');\n",
              "          const dataTable =\n",
              "            await google.colab.kernel.invokeFunction('convertToInteractive',\n",
              "                                                     [key], {});\n",
              "          if (!dataTable) return;\n",
              "\n",
              "          const docLinkHtml = 'Like what you see? Visit the ' +\n",
              "            '<a target=\"_blank\" href=https://colab.research.google.com/notebooks/data_table.ipynb>data table notebook</a>'\n",
              "            + ' to learn more about interactive tables.';\n",
              "          element.innerHTML = '';\n",
              "          dataTable['output_type'] = 'display_data';\n",
              "          await google.colab.output.renderOutput(dataTable, element);\n",
              "          const docLink = document.createElement('div');\n",
              "          docLink.innerHTML = docLinkHtml;\n",
              "          element.appendChild(docLink);\n",
              "        }\n",
              "      </script>\n",
              "    </div>\n",
              "  </div>\n",
              "  "
            ]
          },
          "metadata": {},
          "execution_count": 58
        }
      ]
    },
    {
      "cell_type": "code",
      "source": [
        "%whos"
      ],
      "metadata": {
        "id": "a9mhz0x_7p-r",
        "colab": {
          "base_uri": "https://localhost:8080/"
        },
        "outputId": "163dc8b3-de9b-45f5-88d1-4ad2ca70798f"
      },
      "execution_count": 59,
      "outputs": [
        {
          "output_type": "stream",
          "name": "stdout",
          "text": [
            "Variable             Type                    Data/Info\n",
            "------------------------------------------------------\n",
            "List                 _SpecialGenericAlias    typing.List\n",
            "adjustments          ndarray                 20x1: 20 elems, type `float64`, 160 bytes\n",
            "bias                 int                     2\n",
            "bias_1               int                     2\n",
            "bias_2               int                     3\n",
            "bias_3               float                   0.5\n",
            "data                 ndarray                 4x3: 12 elems, type `int64`, 96 bytes\n",
            "data_2               ndarray                 7x3: 21 elems, type `int64`, 168 bytes\n",
            "data_3               ndarray                 5x4: 20 elems, type `int64`, 160 bytes\n",
            "derivative_sigmoid   function                <function derivative_sigmoid at 0x7fc80f7c01f0>\n",
            "df_predict           DataFrame                   predict\\n0       1.0\\<...>n18      1.0\\n19      1.0\n",
            "df_real              DataFrame                   real\\n0      1\\n1    <...>    0\\n18     1\\n19     1\n",
            "dot_product          function                <function dot_product at 0x7fc80f7c1000>\n",
            "error                ndarray                 20x1: 20 elems, type `float64`, 160 bytes\n",
            "features             ndarray                 20x2: 40 elems, type `float64`, 320 bytes\n",
            "i                    int                     99999\n",
            "inp                  list                    n=3\n",
            "inp_                 list                    n=4\n",
            "input_layer          ndarray                 20x2: 40 elems, type `float64`, 320 bytes\n",
            "labels               ndarray                 20x1: 20 elems, type `int64`, 160 bytes\n",
            "labels_2             ndarray                 7x1: 7 elems, type `int64`, 56 bytes\n",
            "labels_3             ndarray                 5x1: 5 elems, type `int64`, 40 bytes\n",
            "make_blobs           function                <function make_blobs at 0x7fc7e0349ab0>\n",
            "nn                   function                <function nn at 0x7fc80f7c0d30>\n",
            "np                   module                  <module 'numpy' from '/us<...>kages/numpy/__init__.py'>\n",
            "out                  float                   2.3\n",
            "output               ndarray                 20x1: 20 elems, type `float64`, 160 bytes\n",
            "outs                 dict                    n=3\n",
            "pd                   module                  <module 'pandas' from '/u<...>ages/pandas/__init__.py'>\n",
            "sigmoid              function                <function sigmoid at 0x7fc80f7c0310>\n",
            "v1                   list                    n=1\n",
            "v2                   list                    n=1\n",
            "v3                   list                    n=1\n",
            "w                    ndarray                 2x1: 2 elems, type `float64`, 16 bytes\n",
            "w_1                  list                    n=4\n",
            "w_2                  list                    n=4\n",
            "w_3                  list                    n=4\n",
            "weight               list                    n=3\n"
          ]
        }
      ]
    },
    {
      "cell_type": "code",
      "source": [],
      "metadata": {
        "id": "voEr9qPb7p28"
      },
      "execution_count": null,
      "outputs": []
    },
    {
      "cell_type": "code",
      "source": [],
      "metadata": {
        "id": "IYiHnQanfixl"
      },
      "execution_count": null,
      "outputs": []
    },
    {
      "cell_type": "code",
      "source": [],
      "metadata": {
        "id": "3zK7OeYQaDrn"
      },
      "execution_count": null,
      "outputs": []
    }
  ]
}